{
 "cells": [
  {
   "cell_type": "code",
   "execution_count": 10,
   "metadata": {},
   "outputs": [],
   "source": [
    "import utilities as ut\n",
    "\n",
    "import pandas as pd\n",
    "import seaborn as sns\n",
    "import matplotlib.pyplot as plt\n",
    "import numpy as np\n",
    "import os\n",
    "\n",
    "# For data preparation\n",
    "from sklearn.preprocessing import MinMaxScaler\n",
    "from sklearn.model_selection import train_test_split, learning_curve\n",
    "\n",
    "# For model evaluation\n",
    "from sklearn import metrics\n",
    "\n",
    "# For ML classification\n",
    "from sklearn.model_selection import GridSearchCV\n",
    "from sklearn.neighbors import KNeighborsClassifier\n",
    "from sklearn.svm import SVC\n",
    "\n",
    "# For Tensorflow\n",
    "import tensorflow as tf\n",
    "from tensorflow.keras.layers import Input, Dense, MaxPool1D, BatchNormalization, GlobalAvgPool1D, Conv1D, Dropout\n",
    "from tensorflow.keras import Model\n",
    "from tensorflow.math import confusion_matrix\n",
    "\n",
    "# for callback\n",
    "from tensorflow.keras.callbacks import ModelCheckpoint, EarlyStopping\n"
   ]
  },
  {
   "cell_type": "markdown",
   "metadata": {},
   "source": [
    "L'objectif à travers ce code est de prendre les 8 signaux directement et de les faire rentrer dans un CNN à 1 dimension"
   ]
  },
  {
   "cell_type": "code",
   "execution_count": 36,
   "metadata": {},
   "outputs": [],
   "source": [
    "monfichier = pd.read_csv(\"./capteurs/capteur1.csv\")\n",
    "macolonne = monfichier[\"class\"]\n",
    "macolonne.to_csv(\"./capteurs/labels/labels.csv\", index=None)"
   ]
  },
  {
   "cell_type": "code",
   "execution_count": 37,
   "metadata": {},
   "outputs": [],
   "source": [
    "def stack_dataset(path, test_size=0.3) :\n",
    "    listefichier = os.listdir(path)\n",
    "    monDataset = list()\n",
    "    etiq = 0\n",
    "    for file in listefichier :\n",
    "        all_path = os.path.join(path,file)\n",
    "        if not os.path.isdir(all_path) :\n",
    "            monfichier = pd.read_csv(all_path)\n",
    "            monfichier.drop([\"class\"], axis=1, inplace=True)\n",
    "            monDataset.append(monfichier)\n",
    "        else :\n",
    "            monfichier = os.listdir(all_path)\n",
    "            all_path_etiq = os.path.join(all_path,monfichier[0])\n",
    "            etiq = pd.read_csv(all_path_etiq)\n",
    "    monDataset = np.dstack(monDataset)\n",
    "    fv_train, fv_test, etiq_train, etiq_test = train_test_split(monDataset, etiq, test_size=test_size, random_state=42) \n",
    "    return fv_train, fv_test, etiq_train, etiq_test"
   ]
  },
  {
   "cell_type": "code",
   "execution_count": 38,
   "metadata": {},
   "outputs": [
    {
     "data": {
      "text/plain": [
       "((54, 4000, 8), (24, 4000, 8), (54, 1), (24, 1))"
      ]
     },
     "execution_count": 38,
     "metadata": {},
     "output_type": "execute_result"
    }
   ],
   "source": [
    "fv_train, fv_test, etiq_train, etiq_test = stack_dataset(\"./capteurs\")\n",
    "fv_train.shape, fv_test.shape, etiq_train.shape, etiq_test.shape"
   ]
  }
 ],
 "metadata": {
  "interpreter": {
   "hash": "374be8c39ae01ff66328729506a9b9a7ba9eb3f2df141c8f3098ad96d8cc6bdd"
  },
  "kernelspec": {
   "display_name": "Python 3.8.8 ('base')",
   "language": "python",
   "name": "python3"
  },
  "language_info": {
   "codemirror_mode": {
    "name": "ipython",
    "version": 3
   },
   "file_extension": ".py",
   "mimetype": "text/x-python",
   "name": "python",
   "nbconvert_exporter": "python",
   "pygments_lexer": "ipython3",
   "version": "3.8.8"
  },
  "orig_nbformat": 4
 },
 "nbformat": 4,
 "nbformat_minor": 2
}
