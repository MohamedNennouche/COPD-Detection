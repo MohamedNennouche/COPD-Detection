{
 "cells": [
  {
   "cell_type": "code",
   "execution_count": 1,
   "metadata": {},
   "outputs": [],
   "source": [
    "import tensorflow as tf\n",
    "import matplotlib.pyplot as plt\n",
    "import numpy as np\n",
    "import seaborn as sns\n",
    "import os\n",
    "import glob\n",
    "import shutil\n",
    "import csv\n",
    "\n",
    "from sklearn.model_selection import train_test_split\n",
    "\n",
    "from tensorflow.keras.layers import Conv2D, Input, Dense, MaxPool2D, BatchNormalization, GlobalAvgPool2D\n",
    "from tensorflow.keras import Model\n",
    "from tensorflow.keras.preprocessing.image import ImageDataGenerator\n",
    "\n",
    "# for callback\n",
    "from tensorflow.keras.callbacks import ModelCheckpoint, EarlyStopping"
   ]
  },
  {
   "cell_type": "markdown",
   "metadata": {},
   "source": [
    "## Objectif\n",
    "L'objectif de ce code est de parvenir à classer nos images (crées dans le fichier COPD-notebook.ipynb) en utilisant un réseau de neurones convolutif. Pour se faire, on commence par préparer nos données en divisant nos données en données d'entraînement, de validation et de test\n",
    "## Préparation des données"
   ]
  },
  {
   "cell_type": "code",
   "execution_count": 2,
   "metadata": {},
   "outputs": [],
   "source": [
    "def split_data(path_to_data, path_to_save_train, path_to_save_val, split_size=0.4) :\n",
    "    folders = os.listdir(path_to_data) # la liste des dossiers disponible au chemin donné\n",
    "    for folder in folders :\n",
    "        full_path = os.path.join(path_to_data, folder) # pour avoir le chemin complet en ajoutant le nom des dossiers\n",
    "        images_paths = glob.glob(os.path.join(full_path, '*.jpeg')) # ca prend tous les fichiers à l'intérieur du dossier et les télécharge (le join il va a chaque fois ajouter le path du dossier et ajoutant le nom du fichier) ca nous retourne une liste d'images\n",
    "        x_train, x_val = train_test_split(images_paths, test_size=split_size) # split en train et validation\n",
    "\n",
    "        for x in x_train : \n",
    "            path_to_folder = os.path.join(path_to_save_train, folder) # pour recréer les même dossier que dans le dossier de base\n",
    "            if not os.path.isdir(path_to_folder) : \n",
    "                os.makedirs(path_to_folder) # si il n'existe pas il le crée\n",
    "            shutil.copy(x, path_to_folder)\n",
    "        \n",
    "        for x in x_val : \n",
    "            path_to_folder = os.path.join(path_to_save_val, folder) # pour recréer les même dossier que dans le dossier de base\n",
    "            if not os.path.isdir(path_to_folder) : \n",
    "                os.makedirs(path_to_folder) # si il n'existe pas il le crée\n",
    "            shutil.copy(x, path_to_folder)"
   ]
  },
  {
   "cell_type": "markdown",
   "metadata": {},
   "source": [
    "Séparation : données d'entrainement / données de validation (60% - 40%)"
   ]
  },
  {
   "cell_type": "code",
   "execution_count": 3,
   "metadata": {},
   "outputs": [],
   "source": [
    "path_to_data = \"./images\"\n",
    "path_to_save_train = \"./Training\"\n",
    "path_to_save_val = \"./Validation\"\n",
    "path_to_save_test = \"./Test\""
   ]
  },
  {
   "cell_type": "code",
   "execution_count": 4,
   "metadata": {},
   "outputs": [],
   "source": [
    "split_data(path_to_data, path_to_save_train, path_to_save_val)"
   ]
  },
  {
   "cell_type": "markdown",
   "metadata": {},
   "source": [
    "Séparation : données de validation / données de test (50% - 50%)"
   ]
  },
  {
   "cell_type": "code",
   "execution_count": 5,
   "metadata": {},
   "outputs": [],
   "source": [
    "def split_val_test(path_to_data, path_to_save_test, split_size=0.5) :\n",
    "    folders = os.listdir(path_to_data) # la liste des dossiers disponible au chemin donné\n",
    "    for folder in folders :\n",
    "        full_path = os.path.join(path_to_data, folder) # pour avoir le chemin complet en ajoutant le nom des dossiers\n",
    "        images_paths = glob.glob(os.path.join(full_path, '*.jpeg')) # ca prend tous les fichiers à l'intérieur du dossier et les télécharge (le join il va a chaque fois ajouter le path du dossier et ajoutant le nom du fichier) ca nous retourne une liste d'images\n",
    "        x_train, x_val = train_test_split(images_paths, test_size=split_size) # split en train et validation\n",
    "        \n",
    "        for x in x_val : \n",
    "            path_to_folder = os.path.join(path_to_save_test, folder) # pour recréer les même dossier que dans le dossier de base\n",
    "            if not os.path.isdir(path_to_folder) : \n",
    "                os.makedirs(path_to_folder) # si il n'existe pas il le crée\n",
    "            shutil.move(x, path_to_folder)"
   ]
  },
  {
   "cell_type": "code",
   "execution_count": 6,
   "metadata": {},
   "outputs": [],
   "source": [
    "split_val_test(path_to_save_val, path_to_save_test)"
   ]
  },
  {
   "cell_type": "markdown",
   "metadata": {},
   "source": [
    "## Classification"
   ]
  },
  {
   "cell_type": "code",
   "execution_count": 7,
   "metadata": {},
   "outputs": [],
   "source": [
    "def streetsigns_model(nbr_classes) :\n",
    "    my_input = Input(shape=(200,160, 1))\n",
    "    x= Conv2D(32, (3,3), activation='relu')(my_input)\n",
    "    x= Conv2D(64, (3,3), activation='relu')(x)\n",
    "    x= MaxPool2D()(x)\n",
    "    x= BatchNormalization()(x)\n",
    "\n",
    "    x= Conv2D(128, (3,3), activation='relu')(x)\n",
    "    x= MaxPool2D()(x)\n",
    "    x= BatchNormalization()(x)\n",
    "\n",
    "    x= GlobalAvgPool2D()(x)\n",
    "    x= Dense(64, activation='relu')(x)\n",
    "    x= Dense(nbr_classes, activation='softmax')(x)\n",
    "    model = Model(inputs=my_input, outputs=x)\n",
    "    return model"
   ]
  },
  {
   "cell_type": "code",
   "execution_count": 8,
   "metadata": {},
   "outputs": [
    {
     "name": "stdout",
     "output_type": "stream",
     "text": [
      "Model: \"model\"\n",
      "_________________________________________________________________\n",
      " Layer (type)                Output Shape              Param #   \n",
      "=================================================================\n",
      " input_1 (InputLayer)        [(None, 200, 160, 1)]     0         \n",
      "                                                                 \n",
      " conv2d (Conv2D)             (None, 198, 158, 32)      320       \n",
      "                                                                 \n",
      " conv2d_1 (Conv2D)           (None, 196, 156, 64)      18496     \n",
      "                                                                 \n",
      " max_pooling2d (MaxPooling2D  (None, 98, 78, 64)       0         \n",
      " )                                                               \n",
      "                                                                 \n",
      " batch_normalization (BatchN  (None, 98, 78, 64)       256       \n",
      " ormalization)                                                   \n",
      "                                                                 \n",
      " conv2d_2 (Conv2D)           (None, 96, 76, 128)       73856     \n",
      "                                                                 \n",
      " max_pooling2d_1 (MaxPooling  (None, 48, 38, 128)      0         \n",
      " 2D)                                                             \n",
      "                                                                 \n",
      " batch_normalization_1 (Batc  (None, 48, 38, 128)      512       \n",
      " hNormalization)                                                 \n",
      "                                                                 \n",
      " global_average_pooling2d (G  (None, 128)              0         \n",
      " lobalAveragePooling2D)                                          \n",
      "                                                                 \n",
      " dense (Dense)               (None, 64)                8256      \n",
      "                                                                 \n",
      " dense_1 (Dense)             (None, 43)                2795      \n",
      "                                                                 \n",
      "=================================================================\n",
      "Total params: 104,491\n",
      "Trainable params: 104,107\n",
      "Non-trainable params: 384\n",
      "_________________________________________________________________\n"
     ]
    }
   ],
   "source": [
    "model = streetsigns_model(43)\n",
    "model.summary()"
   ]
  },
  {
   "cell_type": "markdown",
   "metadata": {},
   "source": [
    "## Générateur des données\n",
    "Etant donné qu'on a bien mis nos données dans des dossiers différents et on a séparés convenablement entre entraînement, validation et test, on utilise un générateur de données qui va nous permettre de labeliser automatiquement ces données"
   ]
  },
  {
   "cell_type": "code",
   "execution_count": 11,
   "metadata": {},
   "outputs": [],
   "source": [
    "def create_generators(batch_size, train_data_path, val_data_path, test_data_path) :\n",
    "    preprocessor = ImageDataGenerator(\n",
    "        rescale = 1/255. # pour assurer une division flottante\n",
    "    )\n",
    "\n",
    "    train_generator = preprocessor.flow_from_directory(\n",
    "        train_data_path,\n",
    "        class_mode=\"categorical\",\n",
    "        color_mode = 'grayscale', # type d'images\n",
    "        shuffle = True,\n",
    "        batch_size=batch_size\n",
    "    )\n",
    "\n",
    "    val_generator = preprocessor.flow_from_directory(\n",
    "        val_data_path,\n",
    "        class_mode=\"categorical\",\n",
    "        color_mode = 'grayscale', # type d'images\n",
    "        shuffle = False,\n",
    "        batch_size=batch_size\n",
    "    )\n",
    "\n",
    "    test_generator = preprocessor.flow_from_directory(\n",
    "        test_data_path,\n",
    "        class_mode=\"categorical\",\n",
    "        color_mode = 'grayscale', # type d'images\n",
    "        shuffle = False,\n",
    "        batch_size=batch_size\n",
    "    )\n",
    "\n",
    "    return train_generator, val_generator, test_generator"
   ]
  },
  {
   "cell_type": "code",
   "execution_count": 12,
   "metadata": {},
   "outputs": [
    {
     "name": "stdout",
     "output_type": "stream",
     "text": [
      "Found 46 images belonging to 4 classes.\n",
      "Found 16 images belonging to 4 classes.\n",
      "Found 16 images belonging to 4 classes.\n"
     ]
    }
   ],
   "source": [
    "train_data_path = \"./Training\"\n",
    "val_data_path = \"./Validation\"\n",
    "test_data_path = \"./Test\"\n",
    "batch_size = 4\n",
    "\n",
    "train_generator, val_generator, test_generator= create_generators(batch_size, train_data_path, val_data_path, test_data_path)\n",
    "\n",
    "nbr_classes = train_generator.num_classes"
   ]
  },
  {
   "cell_type": "code",
   "execution_count": 13,
   "metadata": {},
   "outputs": [],
   "source": [
    "model = streetsigns_model(nbr_classes)"
   ]
  },
  {
   "cell_type": "markdown",
   "metadata": {},
   "source": [
    "On procède maintenant au fitting du modèle en s'assurant de sauvegarder le meilleur des modèles"
   ]
  },
  {
   "cell_type": "code",
   "execution_count": 18,
   "metadata": {},
   "outputs": [],
   "source": [
    "# callbacks\n",
    "path_to_save_model = './Models'\n",
    "ckpt_saver = ModelCheckpoint(\n",
    "    path_to_save_model,\n",
    "    monitor='accuracy', # sur quoi on se base pour voir le meilleur\n",
    "    mode = 'max', # max de l'accuracy sur la validation\n",
    "    save_best_only = True,\n",
    "    save_freq='epoch', # ne voit qu'à la fin de l'époque\n",
    "    verbose=1\n",
    ") \n",
    "\n",
    "model.compile(optimizer='adam', loss='categorical_crossentropy', metrics=['accuracy']) # on choisit categorical_crossentropy car dans les générateurs on a défini categorical comme class_mode\n",
    "\n",
    "epochs = 15"
   ]
  },
  {
   "cell_type": "code",
   "execution_count": 19,
   "metadata": {},
   "outputs": [
    {
     "name": "stdout",
     "output_type": "stream",
     "text": [
      "Epoch 1/15\n",
      "12/12 [==============================] - ETA: 0s - loss: 0.3584 - accuracy: 0.8913\n",
      "Epoch 1: accuracy improved from -inf to 0.89130, saving model to .\\Models\n",
      "INFO:tensorflow:Assets written to: .\\Models\\assets\n",
      "12/12 [==============================] - 16s 1s/step - loss: 0.3584 - accuracy: 0.8913 - val_loss: 2.6197 - val_accuracy: 0.5000\n",
      "Epoch 2/15\n",
      "12/12 [==============================] - ETA: 0s - loss: 0.2674 - accuracy: 0.9130\n",
      "Epoch 2: accuracy improved from 0.89130 to 0.91304, saving model to .\\Models\n",
      "INFO:tensorflow:Assets written to: .\\Models\\assets\n",
      "12/12 [==============================] - 11s 945ms/step - loss: 0.2674 - accuracy: 0.9130 - val_loss: 2.7239 - val_accuracy: 0.5000\n",
      "Epoch 3/15\n",
      "12/12 [==============================] - ETA: 0s - loss: 0.2936 - accuracy: 0.8478\n",
      "Epoch 3: accuracy did not improve from 0.91304\n",
      "12/12 [==============================] - 11s 915ms/step - loss: 0.2936 - accuracy: 0.8478 - val_loss: 2.4601 - val_accuracy: 0.5000\n",
      "Epoch 4/15\n",
      "12/12 [==============================] - ETA: 0s - loss: 0.2087 - accuracy: 0.9348\n",
      "Epoch 4: accuracy improved from 0.91304 to 0.93478, saving model to .\\Models\n",
      "INFO:tensorflow:Assets written to: .\\Models\\assets\n",
      "12/12 [==============================] - 13s 1s/step - loss: 0.2087 - accuracy: 0.9348 - val_loss: 2.1334 - val_accuracy: 0.5000\n",
      "Epoch 5/15\n",
      "12/12 [==============================] - ETA: 0s - loss: 0.2018 - accuracy: 0.9130\n",
      "Epoch 5: accuracy did not improve from 0.93478\n",
      "12/12 [==============================] - 12s 1s/step - loss: 0.2018 - accuracy: 0.9130 - val_loss: 2.2730 - val_accuracy: 0.5000\n",
      "Epoch 6/15\n",
      "12/12 [==============================] - ETA: 0s - loss: 0.1945 - accuracy: 0.9348\n",
      "Epoch 6: accuracy did not improve from 0.93478\n",
      "12/12 [==============================] - 11s 918ms/step - loss: 0.1945 - accuracy: 0.9348 - val_loss: 2.4993 - val_accuracy: 0.5000\n",
      "Epoch 7/15\n",
      "12/12 [==============================] - ETA: 0s - loss: 0.2335 - accuracy: 0.9130\n",
      "Epoch 7: accuracy did not improve from 0.93478\n",
      "12/12 [==============================] - 12s 972ms/step - loss: 0.2335 - accuracy: 0.9130 - val_loss: 2.4477 - val_accuracy: 0.5000\n",
      "Epoch 8/15\n",
      "12/12 [==============================] - ETA: 0s - loss: 0.1934 - accuracy: 0.9565\n",
      "Epoch 8: accuracy improved from 0.93478 to 0.95652, saving model to .\\Models\n",
      "INFO:tensorflow:Assets written to: .\\Models\\assets\n",
      "12/12 [==============================] - 14s 1s/step - loss: 0.1934 - accuracy: 0.9565 - val_loss: 2.3639 - val_accuracy: 0.5000\n",
      "Epoch 9/15\n",
      "12/12 [==============================] - ETA: 0s - loss: 0.3185 - accuracy: 0.9130\n",
      "Epoch 9: accuracy did not improve from 0.95652\n",
      "12/12 [==============================] - 12s 1s/step - loss: 0.3185 - accuracy: 0.9130 - val_loss: 2.3559 - val_accuracy: 0.5000\n",
      "Epoch 10/15\n",
      "12/12 [==============================] - ETA: 0s - loss: 0.2078 - accuracy: 0.9783\n",
      "Epoch 10: accuracy improved from 0.95652 to 0.97826, saving model to .\\Models\n",
      "INFO:tensorflow:Assets written to: .\\Models\\assets\n",
      "12/12 [==============================] - 15s 1s/step - loss: 0.2078 - accuracy: 0.9783 - val_loss: 2.4736 - val_accuracy: 0.5000\n",
      "Epoch 11/15\n",
      "12/12 [==============================] - ETA: 0s - loss: 0.1957 - accuracy: 0.9565\n",
      "Epoch 11: accuracy did not improve from 0.97826\n",
      "12/12 [==============================] - 12s 980ms/step - loss: 0.1957 - accuracy: 0.9565 - val_loss: 2.4641 - val_accuracy: 0.5000\n",
      "Epoch 12/15\n",
      "12/12 [==============================] - ETA: 0s - loss: 0.2962 - accuracy: 0.8696\n",
      "Epoch 12: accuracy did not improve from 0.97826\n",
      "12/12 [==============================] - 13s 1s/step - loss: 0.2962 - accuracy: 0.8696 - val_loss: 2.6596 - val_accuracy: 0.5000\n",
      "Epoch 13/15\n",
      "12/12 [==============================] - ETA: 0s - loss: 0.2917 - accuracy: 0.8478\n",
      "Epoch 13: accuracy did not improve from 0.97826\n",
      "12/12 [==============================] - 10s 829ms/step - loss: 0.2917 - accuracy: 0.8478 - val_loss: 2.3783 - val_accuracy: 0.5000\n",
      "Epoch 14/15\n",
      "12/12 [==============================] - ETA: 0s - loss: 0.1513 - accuracy: 1.0000\n",
      "Epoch 14: accuracy improved from 0.97826 to 1.00000, saving model to .\\Models\n",
      "INFO:tensorflow:Assets written to: .\\Models\\assets\n",
      "12/12 [==============================] - 11s 905ms/step - loss: 0.1513 - accuracy: 1.0000 - val_loss: 2.3855 - val_accuracy: 0.5000\n",
      "Epoch 15/15\n",
      "12/12 [==============================] - ETA: 0s - loss: 0.1314 - accuracy: 0.9783\n",
      "Epoch 15: accuracy did not improve from 1.00000\n",
      "12/12 [==============================] - 10s 855ms/step - loss: 0.1314 - accuracy: 0.9783 - val_loss: 2.1238 - val_accuracy: 0.5000\n"
     ]
    },
    {
     "data": {
      "text/plain": [
       "<keras.callbacks.History at 0x20129409ac0>"
      ]
     },
     "execution_count": 19,
     "metadata": {},
     "output_type": "execute_result"
    }
   ],
   "source": [
    "model.fit(\n",
    "    train_generator,\n",
    "    epochs = epochs,\n",
    "    batch_size = batch_size,\n",
    "    validation_data = val_generator,\n",
    "    callbacks=[ckpt_saver]\n",
    ")"
   ]
  },
  {
   "cell_type": "code",
   "execution_count": 22,
   "metadata": {},
   "outputs": [
    {
     "name": "stdout",
     "output_type": "stream",
     "text": [
      "4/4 [==============================] - 1s 248ms/step - loss: 2.1549 - accuracy: 0.5000\n"
     ]
    },
    {
     "data": {
      "text/plain": [
       "[2.154945135116577, 0.5]"
      ]
     },
     "execution_count": 22,
     "metadata": {},
     "output_type": "execute_result"
    }
   ],
   "source": [
    "model.evaluate(test_generator)"
   ]
  }
 ],
 "metadata": {
  "interpreter": {
   "hash": "374be8c39ae01ff66328729506a9b9a7ba9eb3f2df141c8f3098ad96d8cc6bdd"
  },
  "kernelspec": {
   "display_name": "Python 3.8.8 ('base')",
   "language": "python",
   "name": "python3"
  },
  "language_info": {
   "codemirror_mode": {
    "name": "ipython",
    "version": 3
   },
   "file_extension": ".py",
   "mimetype": "text/x-python",
   "name": "python",
   "nbconvert_exporter": "python",
   "pygments_lexer": "ipython3",
   "version": "3.8.8"
  },
  "orig_nbformat": 4
 },
 "nbformat": 4,
 "nbformat_minor": 2
}
