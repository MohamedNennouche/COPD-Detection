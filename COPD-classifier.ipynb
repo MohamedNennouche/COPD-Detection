{
 "cells": [
  {
   "cell_type": "code",
   "execution_count": 1,
   "metadata": {},
   "outputs": [],
   "source": [
    "import tensorflow as tf\n",
    "import matplotlib.pyplot as plt\n",
    "import numpy as np\n",
    "import seaborn as sns\n",
    "import os\n",
    "import glob\n",
    "import shutil\n",
    "import csv\n",
    "\n",
    "from sklearn.model_selection import train_test_split\n",
    "\n",
    "from tensorflow.keras.layers import Conv2D, Input, Dense, MaxPool2D, BatchNormalization, GlobalAvgPool2D\n",
    "from tensorflow.keras import Model\n",
    "from tensorflow.keras.preprocessing.image import ImageDataGenerator\n",
    "\n",
    "# for callback\n",
    "from tensorflow.keras.callbacks import ModelCheckpoint, EarlyStopping"
   ]
  },
  {
   "cell_type": "markdown",
   "metadata": {},
   "source": [
    "## Objectif\n",
    "L'objectif de ce code est de parvenir à classer nos images (crées dans le fichier COPD-notebook.ipynb) en utilisant un réseau de neurones convolutif. Pour se faire, on commence par préparer nos données en divisant nos données en données d'entraînement, de validation et de test\n",
    "## Préparation des données"
   ]
  },
  {
   "cell_type": "code",
   "execution_count": 2,
   "metadata": {},
   "outputs": [],
   "source": [
    "def split_data(path_to_data, path_to_save_train, path_to_save_val, split_size=0.4) :\n",
    "    folders = os.listdir(path_to_data) # la liste des dossiers disponible au chemin donné\n",
    "    for folder in folders :\n",
    "        full_path = os.path.join(path_to_data, folder) # pour avoir le chemin complet en ajoutant le nom des dossiers\n",
    "        images_paths = glob.glob(os.path.join(full_path, '*.jpeg')) # ca prend tous les fichiers à l'intérieur du dossier et les télécharge (le join il va a chaque fois ajouter le path du dossier et ajoutant le nom du fichier) ca nous retourne une liste d'images\n",
    "        x_train, x_val = train_test_split(images_paths, test_size=split_size) # split en train et validation\n",
    "\n",
    "        for x in x_train : \n",
    "            path_to_folder = os.path.join(path_to_save_train, folder) # pour recréer les même dossier que dans le dossier de base\n",
    "            if not os.path.isdir(path_to_folder) : \n",
    "                os.makedirs(path_to_folder) # si il n'existe pas il le crée\n",
    "            shutil.copy(x, path_to_folder)\n",
    "        \n",
    "        for x in x_val : \n",
    "            path_to_folder = os.path.join(path_to_save_val, folder) # pour recréer les même dossier que dans le dossier de base\n",
    "            if not os.path.isdir(path_to_folder) : \n",
    "                os.makedirs(path_to_folder) # si il n'existe pas il le crée\n",
    "            shutil.copy(x, path_to_folder)"
   ]
  },
  {
   "cell_type": "markdown",
   "metadata": {},
   "source": [
    "Séparation : données d'entrainement / données de validation (60% - 40%)"
   ]
  },
  {
   "cell_type": "code",
   "execution_count": 3,
   "metadata": {},
   "outputs": [],
   "source": [
    "path_to_data = \"./images\"\n",
    "path_to_save_train = \"./Training\"\n",
    "path_to_save_val = \"./Validation\"\n",
    "path_to_save_test = \"./Test\""
   ]
  },
  {
   "cell_type": "code",
   "execution_count": 4,
   "metadata": {},
   "outputs": [],
   "source": [
    "split_data(path_to_data, path_to_save_train, path_to_save_val)"
   ]
  },
  {
   "cell_type": "markdown",
   "metadata": {},
   "source": [
    "Séparation : données de validation / données de test (50% - 50%)"
   ]
  },
  {
   "cell_type": "code",
   "execution_count": 6,
   "metadata": {},
   "outputs": [],
   "source": [
    "def split_val_test(path_to_data, path_to_save_test, split_size=0.5) :\n",
    "    folders = os.listdir(path_to_data) # la liste des dossiers disponible au chemin donné\n",
    "    for folder in folders :\n",
    "        full_path = os.path.join(path_to_data, folder) # pour avoir le chemin complet en ajoutant le nom des dossiers\n",
    "        images_paths = glob.glob(os.path.join(full_path, '*.jpeg')) # ca prend tous les fichiers à l'intérieur du dossier et les télécharge (le join il va a chaque fois ajouter le path du dossier et ajoutant le nom du fichier) ca nous retourne une liste d'images\n",
    "        x_train, x_val = train_test_split(images_paths, test_size=split_size) # split en train et validation\n",
    "        \n",
    "        for x in x_val : \n",
    "            path_to_folder = os.path.join(path_to_save_test, folder) # pour recréer les même dossier que dans le dossier de base\n",
    "            if not os.path.isdir(path_to_folder) : \n",
    "                os.makedirs(path_to_folder) # si il n'existe pas il le crée\n",
    "            shutil.move(x, path_to_folder)"
   ]
  },
  {
   "cell_type": "code",
   "execution_count": 8,
   "metadata": {},
   "outputs": [],
   "source": [
    "split_val_test(path_to_save_val, path_to_save_test)"
   ]
  },
  {
   "cell_type": "markdown",
   "metadata": {},
   "source": [
    "## Classification"
   ]
  },
  {
   "cell_type": "code",
   "execution_count": 9,
   "metadata": {},
   "outputs": [],
   "source": [
    "def streetsigns_model(nbr_classes) :\n",
    "    my_input = Input(shape=(200,160, 1))\n",
    "    x= Conv2D(32, (5,5), activation='sigmoid')(my_input)\n",
    "    x= Conv2D(64, (5,5), activation='sigmoid')(x)\n",
    "    x= MaxPool2D()(x)\n",
    "    x= BatchNormalization()(x)\n",
    "\n",
    "    x= Conv2D(128, (5,5), activation='sigmoid')(x)\n",
    "    x= MaxPool2D()(x)\n",
    "    x= BatchNormalization()(x)\n",
    "\n",
    "    x= GlobalAvgPool2D()(x)\n",
    "    x= Dense(64, activation='sigmoid')(x)\n",
    "    x= Dense(nbr_classes, activation='softmax')(x)\n",
    "    model = Model(inputs=my_input, outputs=x)\n",
    "    return model"
   ]
  },
  {
   "cell_type": "code",
   "execution_count": 10,
   "metadata": {},
   "outputs": [
    {
     "name": "stdout",
     "output_type": "stream",
     "text": [
      "Model: \"model\"\n",
      "_________________________________________________________________\n",
      " Layer (type)                Output Shape              Param #   \n",
      "=================================================================\n",
      " input_1 (InputLayer)        [(None, 200, 160, 1)]     0         \n",
      "                                                                 \n",
      " conv2d (Conv2D)             (None, 196, 156, 32)      832       \n",
      "                                                                 \n",
      " conv2d_1 (Conv2D)           (None, 192, 152, 64)      51264     \n",
      "                                                                 \n",
      " max_pooling2d (MaxPooling2D  (None, 96, 76, 64)       0         \n",
      " )                                                               \n",
      "                                                                 \n",
      " batch_normalization (BatchN  (None, 96, 76, 64)       256       \n",
      " ormalization)                                                   \n",
      "                                                                 \n",
      " conv2d_2 (Conv2D)           (None, 92, 72, 128)       204928    \n",
      "                                                                 \n",
      " max_pooling2d_1 (MaxPooling  (None, 46, 36, 128)      0         \n",
      " 2D)                                                             \n",
      "                                                                 \n",
      " batch_normalization_1 (Batc  (None, 46, 36, 128)      512       \n",
      " hNormalization)                                                 \n",
      "                                                                 \n",
      " global_average_pooling2d (G  (None, 128)              0         \n",
      " lobalAveragePooling2D)                                          \n",
      "                                                                 \n",
      " dense (Dense)               (None, 64)                8256      \n",
      "                                                                 \n",
      " dense_1 (Dense)             (None, 4)                 260       \n",
      "                                                                 \n",
      "=================================================================\n",
      "Total params: 266,308\n",
      "Trainable params: 265,924\n",
      "Non-trainable params: 384\n",
      "_________________________________________________________________\n"
     ]
    }
   ],
   "source": [
    "model = streetsigns_model(4)\n",
    "model.summary()"
   ]
  },
  {
   "cell_type": "markdown",
   "metadata": {},
   "source": [
    "## Générateur des données\n",
    "Etant donné qu'on a bien mis nos données dans des dossiers différents et on a séparés convenablement entre entraînement, validation et test, on utilise un générateur de données qui va nous permettre de labeliser automatiquement ces données"
   ]
  },
  {
   "cell_type": "code",
   "execution_count": 11,
   "metadata": {},
   "outputs": [],
   "source": [
    "def create_generators(batch_size, train_data_path, val_data_path, test_data_path) :\n",
    "    preprocessor = ImageDataGenerator(\n",
    "        rescale = 1/255. # pour assurer une division flottante\n",
    "    )\n",
    "\n",
    "    train_generator = preprocessor.flow_from_directory(\n",
    "        train_data_path,\n",
    "        class_mode=\"categorical\",\n",
    "        color_mode = 'grayscale', # type d'images\n",
    "        shuffle = True,\n",
    "        batch_size=batch_size\n",
    "    )\n",
    "\n",
    "    val_generator = preprocessor.flow_from_directory(\n",
    "        val_data_path,\n",
    "        class_mode=\"categorical\",\n",
    "        color_mode = 'grayscale', # type d'images\n",
    "        shuffle = False,\n",
    "        batch_size=batch_size\n",
    "    )\n",
    "\n",
    "    test_generator = preprocessor.flow_from_directory(\n",
    "        test_data_path,\n",
    "        class_mode=\"categorical\",\n",
    "        color_mode = 'grayscale', # type d'images\n",
    "        shuffle = False,\n",
    "        batch_size=batch_size\n",
    "    )\n",
    "\n",
    "    return train_generator, val_generator, test_generator"
   ]
  },
  {
   "cell_type": "code",
   "execution_count": 12,
   "metadata": {},
   "outputs": [
    {
     "name": "stdout",
     "output_type": "stream",
     "text": [
      "Found 65 images belonging to 4 classes.\n",
      "Found 19 images belonging to 4 classes.\n",
      "Found 21 images belonging to 4 classes.\n"
     ]
    }
   ],
   "source": [
    "train_data_path = \"./Training\"\n",
    "val_data_path = \"./Validation\"\n",
    "test_data_path = \"./Test\"\n",
    "batch_size = 1\n",
    "\n",
    "train_generator, val_generator, test_generator= create_generators(batch_size, train_data_path, val_data_path, test_data_path)\n",
    "\n",
    "nbr_classes = train_generator.num_classes"
   ]
  },
  {
   "cell_type": "code",
   "execution_count": 13,
   "metadata": {},
   "outputs": [],
   "source": [
    "model = streetsigns_model(nbr_classes)"
   ]
  },
  {
   "cell_type": "markdown",
   "metadata": {},
   "source": [
    "On procède maintenant au fitting du modèle en s'assurant de sauvegarder le meilleur des modèles"
   ]
  },
  {
   "cell_type": "code",
   "execution_count": 14,
   "metadata": {},
   "outputs": [],
   "source": [
    "# callbacks\n",
    "path_to_save_model = './Models'\n",
    "ckpt_saver = ModelCheckpoint(\n",
    "    path_to_save_model,\n",
    "    monitor='accuracy', # sur quoi on se base pour voir le meilleur\n",
    "    mode = 'max', # max de l'accuracy sur la validation\n",
    "    save_best_only = True,\n",
    "    save_freq='epoch', # ne voit qu'à la fin de l'époque\n",
    "    verbose=1\n",
    ") \n",
    "\n",
    "model.compile(optimizer='adam', loss='categorical_crossentropy', metrics=['accuracy']) # on choisit categorical_crossentropy car dans les générateurs on a défini categorical comme class_mode\n",
    "\n",
    "epochs = 15"
   ]
  },
  {
   "cell_type": "code",
   "execution_count": 15,
   "metadata": {},
   "outputs": [
    {
     "name": "stdout",
     "output_type": "stream",
     "text": [
      "Epoch 1/15\n",
      "65/65 [==============================] - ETA: 0s - loss: 1.3231 - accuracy: 0.4308\n",
      "Epoch 1: accuracy improved from -inf to 0.43077, saving model to .\\Models\n",
      "INFO:tensorflow:Assets written to: .\\Models\\assets\n",
      "65/65 [==============================] - 61s 905ms/step - loss: 1.3231 - accuracy: 0.4308 - val_loss: 1.1972 - val_accuracy: 0.5263\n",
      "Epoch 2/15\n",
      "65/65 [==============================] - ETA: 0s - loss: 1.2156 - accuracy: 0.5077\n",
      "Epoch 2: accuracy improved from 0.43077 to 0.50769, saving model to .\\Models\n",
      "INFO:tensorflow:Assets written to: .\\Models\\assets\n",
      "65/65 [==============================] - 57s 880ms/step - loss: 1.2156 - accuracy: 0.5077 - val_loss: 1.1671 - val_accuracy: 0.5263\n",
      "Epoch 3/15\n",
      "65/65 [==============================] - ETA: 0s - loss: 1.2119 - accuracy: 0.5077\n",
      "Epoch 3: accuracy did not improve from 0.50769\n",
      "65/65 [==============================] - 55s 839ms/step - loss: 1.2119 - accuracy: 0.5077 - val_loss: 1.1677 - val_accuracy: 0.5263\n",
      "Epoch 4/15\n",
      "65/65 [==============================] - ETA: 0s - loss: 1.2155 - accuracy: 0.5077\n",
      "Epoch 4: accuracy did not improve from 0.50769\n",
      "65/65 [==============================] - 53s 818ms/step - loss: 1.2155 - accuracy: 0.5077 - val_loss: 1.1646 - val_accuracy: 0.5263\n",
      "Epoch 5/15\n",
      "65/65 [==============================] - ETA: 0s - loss: 1.2105 - accuracy: 0.5077\n",
      "Epoch 5: accuracy did not improve from 0.50769\n",
      "65/65 [==============================] - 53s 811ms/step - loss: 1.2105 - accuracy: 0.5077 - val_loss: 1.1582 - val_accuracy: 0.5263\n",
      "Epoch 6/15\n",
      "65/65 [==============================] - ETA: 0s - loss: 1.2217 - accuracy: 0.5077\n",
      "Epoch 6: accuracy did not improve from 0.50769\n",
      "65/65 [==============================] - 55s 848ms/step - loss: 1.2217 - accuracy: 0.5077 - val_loss: 1.2003 - val_accuracy: 0.5263\n",
      "Epoch 7/15\n",
      "65/65 [==============================] - ETA: 0s - loss: 1.2285 - accuracy: 0.5077\n",
      "Epoch 7: accuracy did not improve from 0.50769\n",
      "65/65 [==============================] - 53s 812ms/step - loss: 1.2285 - accuracy: 0.5077 - val_loss: 1.1902 - val_accuracy: 0.5263\n",
      "Epoch 8/15\n",
      "65/65 [==============================] - ETA: 0s - loss: 1.2066 - accuracy: 0.5077\n",
      "Epoch 8: accuracy did not improve from 0.50769\n",
      "65/65 [==============================] - 53s 819ms/step - loss: 1.2066 - accuracy: 0.5077 - val_loss: 1.2719 - val_accuracy: 0.5263\n",
      "Epoch 9/15\n",
      "65/65 [==============================] - ETA: 0s - loss: 1.2086 - accuracy: 0.5077\n",
      "Epoch 9: accuracy did not improve from 0.50769\n",
      "65/65 [==============================] - 54s 827ms/step - loss: 1.2086 - accuracy: 0.5077 - val_loss: 1.1946 - val_accuracy: 0.5263\n",
      "Epoch 10/15\n",
      "65/65 [==============================] - ETA: 0s - loss: 1.2143 - accuracy: 0.5077\n",
      "Epoch 10: accuracy did not improve from 0.50769\n",
      "65/65 [==============================] - 54s 830ms/step - loss: 1.2143 - accuracy: 0.5077 - val_loss: 1.1642 - val_accuracy: 0.5263\n",
      "Epoch 11/15\n",
      "65/65 [==============================] - ETA: 0s - loss: 1.2177 - accuracy: 0.5077\n",
      "Epoch 11: accuracy did not improve from 0.50769\n",
      "65/65 [==============================] - 55s 840ms/step - loss: 1.2177 - accuracy: 0.5077 - val_loss: 1.1532 - val_accuracy: 0.5263\n",
      "Epoch 12/15\n",
      "65/65 [==============================] - ETA: 0s - loss: 1.2084 - accuracy: 0.5077\n",
      "Epoch 12: accuracy did not improve from 0.50769\n",
      "65/65 [==============================] - 55s 841ms/step - loss: 1.2084 - accuracy: 0.5077 - val_loss: 1.1489 - val_accuracy: 0.5263\n",
      "Epoch 13/15\n",
      "65/65 [==============================] - ETA: 0s - loss: 1.2136 - accuracy: 0.5077\n",
      "Epoch 13: accuracy did not improve from 0.50769\n",
      "65/65 [==============================] - 54s 832ms/step - loss: 1.2136 - accuracy: 0.5077 - val_loss: 1.1483 - val_accuracy: 0.5263\n",
      "Epoch 14/15\n",
      "65/65 [==============================] - ETA: 0s - loss: 1.2196 - accuracy: 0.5077\n",
      "Epoch 14: accuracy did not improve from 0.50769\n",
      "65/65 [==============================] - 53s 813ms/step - loss: 1.2196 - accuracy: 0.5077 - val_loss: 1.1275 - val_accuracy: 0.5263\n",
      "Epoch 15/15\n",
      "65/65 [==============================] - ETA: 0s - loss: 1.2190 - accuracy: 0.5077\n",
      "Epoch 15: accuracy did not improve from 0.50769\n",
      "65/65 [==============================] - 53s 821ms/step - loss: 1.2190 - accuracy: 0.5077 - val_loss: 1.1361 - val_accuracy: 0.5263\n"
     ]
    },
    {
     "data": {
      "text/plain": [
       "<keras.callbacks.History at 0x1bddd7d28b0>"
      ]
     },
     "execution_count": 15,
     "metadata": {},
     "output_type": "execute_result"
    }
   ],
   "source": [
    "model.fit(\n",
    "    train_generator,\n",
    "    epochs = epochs,\n",
    "    batch_size = batch_size,\n",
    "    validation_data = val_generator,\n",
    "    callbacks=[ckpt_saver]\n",
    ")"
   ]
  },
  {
   "cell_type": "code",
   "execution_count": 16,
   "metadata": {},
   "outputs": [
    {
     "name": "stdout",
     "output_type": "stream",
     "text": [
      "21/21 [==============================] - 4s 181ms/step - loss: 1.1574 - accuracy: 0.5238\n"
     ]
    },
    {
     "data": {
      "text/plain": [
       "[1.1573565006256104, 0.523809552192688]"
      ]
     },
     "execution_count": 16,
     "metadata": {},
     "output_type": "execute_result"
    }
   ],
   "source": [
    "model.evaluate(test_generator)"
   ]
  }
 ],
 "metadata": {
  "interpreter": {
   "hash": "374be8c39ae01ff66328729506a9b9a7ba9eb3f2df141c8f3098ad96d8cc6bdd"
  },
  "kernelspec": {
   "display_name": "Python 3.8.8 ('base')",
   "language": "python",
   "name": "python3"
  },
  "language_info": {
   "codemirror_mode": {
    "name": "ipython",
    "version": 3
   },
   "file_extension": ".py",
   "mimetype": "text/x-python",
   "name": "python",
   "nbconvert_exporter": "python",
   "pygments_lexer": "ipython3",
   "version": "3.8.8"
  },
  "orig_nbformat": 4
 },
 "nbformat": 4,
 "nbformat_minor": 2
}
